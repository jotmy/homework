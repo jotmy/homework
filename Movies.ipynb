{
 "cells": [
  {
   "cell_type": "code",
   "execution_count": 2,
   "metadata": {},
   "outputs": [],
   "source": [
    "# List of movies dictionaries:\n",
    "\n",
    "movies = [\n",
    "{\n",
    "\"name\": \"Usual Suspects\", \n",
    "\"imdb\": 7.0,\n",
    "\"category\": \"Thriller\"\n",
    "},\n",
    "{\n",
    "\"name\": \"Hitman\",\n",
    "\"imdb\": 6.3,\n",
    "\"category\": \"Action\"\n",
    "},\n",
    "{\n",
    "\"name\": \"Dark Knight\",\n",
    "\"imdb\": 9.0,\n",
    "\"category\": \"Adventure\"\n",
    "},\n",
    "{\n",
    "\"name\": \"The Help\",\n",
    "\"imdb\": 8.0,\n",
    "\"category\": \"Drama\"\n",
    "},\n",
    "{\n",
    "\"name\": \"The Choice\",\n",
    "\"imdb\": 6.2,\n",
    "\"category\": \"Romance\"\n",
    "},\n",
    "{\n",
    "\"name\": \"Colonia\",\n",
    "\"imdb\": 7.4,\n",
    "\"category\": \"Romance\"\n",
    "},\n",
    "{\n",
    "\"name\": \"Love\",\n",
    "\"imdb\": 6.0,\n",
    "\"category\": \"Romance\"\n",
    "},\n",
    "{\n",
    "\"name\": \"Bride Wars\",\n",
    "\"imdb\": 5.4,\n",
    "\"category\": \"Romance\"\n",
    "},\n",
    "{\n",
    "\"name\": \"AlphaJet\",\n",
    "\"imdb\": 3.2,\n",
    "\"category\": \"War\"\n",
    "},\n",
    "{\n",
    "\"name\": \"Ringing Crime\",\n",
    "\"imdb\": 4.0,\n",
    "\"category\": \"Crime\"\n",
    "},\n",
    "{\n",
    "\"name\": \"Joking muck\",\n",
    "\"imdb\": 7.2,\n",
    "\"category\": \"Comedy\"\n",
    "},\n",
    "{\n",
    "\"name\": \"What is the name\",\n",
    "\"imdb\": 9.2,\n",
    "\"category\": \"Suspense\"\n",
    "},\n",
    "{\n",
    "\"name\": \"Detective\",\n",
    "\"imdb\": 7.0,\n",
    "\"category\": \"Suspense\"\n",
    "},\n",
    "{\n",
    "\"name\": \"Exam\",\n",
    "\"imdb\": 4.2,\n",
    "\"category\": \"Thriller\"\n",
    "},\n",
    "{\n",
    "\"name\": \"We Two\",\n",
    "\"imdb\": 7.2,\n",
    "\"category\": \"Romance\"\n",
    "}\n",
    "]"
   ]
  },
  {
   "cell_type": "code",
   "execution_count": 5,
   "metadata": {},
   "outputs": [],
   "source": [
    "#Write a function that Accepts a single movie dictionary from the movies list as an argument. \n",
    "Movie_ratings={'Usual Suspects':7.0, 'Hitman': 6.3, 'Dark Knight':9.0, 'The Help': 8.0, 'The Choice':6.0, 'Colonia': 7.4, 'Love': 6.0, 'Bride Wars': 5.4, 'AlphaJet': 3.2, 'Ringing Crime': 4.0, 'Joking muck': 7.2, 'What is the name': 9.2, 'Detective': 7.0, 'Exam': 4.2, 'We Two': 7.2}"
   ]
  },
  {
   "cell_type": "code",
   "execution_count": 4,
   "metadata": {},
   "outputs": [
    {
     "data": {
      "text/plain": [
       "5.4"
      ]
     },
     "execution_count": 4,
     "metadata": {},
     "output_type": "execute_result"
    }
   ],
   "source": [
    "Movie_ratings['Bride Wars']"
   ]
  },
  {
   "cell_type": "code",
   "execution_count": 24,
   "metadata": {},
   "outputs": [
    {
     "ename": "SyntaxError",
     "evalue": "invalid syntax (<ipython-input-24-d6aa4ad7a44a>, line 7)",
     "output_type": "error",
     "traceback": [
      "\u001b[0;36m  File \u001b[0;32m\"<ipython-input-24-d6aa4ad7a44a>\"\u001b[0;36m, line \u001b[0;32m7\u001b[0m\n\u001b[0;31m    else print (\"False\")\u001b[0m\n\u001b[0m             ^\u001b[0m\n\u001b[0;31mSyntaxError\u001b[0m\u001b[0;31m:\u001b[0m invalid syntax\n"
     ]
    }
   ],
   "source": [
    "#Write a function that 2) Returns True if the IMDb score is greater than 5.5.\n",
    "Movie_ratings={'Usual Suspects':7.0, 'Hitman': 6.3, 'Dark Knight':9.0, 'The Help': 8.0, 'The Choice':6.0, 'Colonia': 7.4, 'Love': 6.0, 'Bride Wars': 5.4, 'AlphaJet': 3.2, 'Ringing Crime': 4.0, 'Joking muck': 7.2, 'What is the name': 9.2, 'Detective': 7.0, 'Exam': 4.2, 'We Two': 7.2}\n",
    "\n",
    "for values in Movie_ratings.values(): \n",
    "    if (Movie-ratings[values]>5.5): \n",
    "        print (\"True\")\n",
    "    else print (\"False\")    \n",
    "    \n",
    "        "
   ]
  },
  {
   "cell_type": "code",
   "execution_count": null,
   "metadata": {},
   "outputs": [],
   "source": []
  },
  {
   "cell_type": "code",
   "execution_count": null,
   "metadata": {},
   "outputs": [],
   "source": []
  }
 ],
 "metadata": {
  "kernelspec": {
   "display_name": "Python 3",
   "language": "python",
   "name": "python3"
  },
  "language_info": {
   "codemirror_mode": {
    "name": "ipython",
    "version": 3
   },
   "file_extension": ".py",
   "mimetype": "text/x-python",
   "name": "python",
   "nbconvert_exporter": "python",
   "pygments_lexer": "ipython3",
   "version": "3.6.5"
  }
 },
 "nbformat": 4,
 "nbformat_minor": 2
}
