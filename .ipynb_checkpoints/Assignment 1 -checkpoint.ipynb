{
 "cells": [
  {
   "cell_type": "code",
   "execution_count": 29,
   "metadata": {},
   "outputs": [
    {
     "name": "stdout",
     "output_type": "stream",
     "text": [
      "906609\n"
     ]
    }
   ],
   "source": [
    "#Find the largest palindrome made from the product of two three-digit numbers \n",
    "def palindrome(p):\n",
    "    return str(p)==str(p)[::-1] #this is to check that the string version of the numbers and its' reverse is the same \n",
    "\n",
    "pal=[]\n",
    "for first_num in range (100,999): #setting the range as it has to be 3 digit numbers \n",
    "    for second_num in range (100,999): \n",
    "        item = first_num*second_num \n",
    "        if palindrome(item): \n",
    "            pal.append(item)\n",
    "            \n",
    "print (max(pal))"
   ]
  },
  {
   "cell_type": "code",
   "execution_count": 28,
   "metadata": {},
   "outputs": [
    {
     "name": "stdout",
     "output_type": "stream",
     "text": [
      "277050\n"
     ]
    }
   ],
   "source": [
    "#Find the sum of all the primes below 2,000. \n",
    "\n",
    "def isPrime(n):\n",
    "    if n < 2: return \"Not Prime\" #value of n should be more than 2 \n",
    "    for i in range(2, int(n**0.5) + 1):\n",
    "        if n % i == 0:\n",
    "            return False\n",
    "    return True\n",
    "\n",
    "sum = 0\n",
    "for i in range(2, 2000):\n",
    "    if isPrime(i):\n",
    "        sum += i\n",
    "\n",
    "print (sum)"
   ]
  },
  {
   "cell_type": "code",
   "execution_count": 26,
   "metadata": {},
   "outputs": [
    {
     "name": "stdout",
     "output_type": "stream",
     "text": [
      "233168\n"
     ]
    }
   ],
   "source": [
    "#Find the sum of all the multiples of 3 and 5 below 1,000.\n",
    "\n",
    "count = 0\n",
    "\n",
    "for i in range(0,1000): #value of i should be within the range of 0 to 1000. Set as 1000 so that 999 is also included \n",
    "    if i % 3 == 0 or i % 5 ==0: # i should be divisible by either 3 or 5 \n",
    "        count = count + i #to add the sum of all values of i which are multiples of 3 or 5 \n",
    "\n",
    "print(count)"
   ]
  },
  {
   "cell_type": "code",
   "execution_count": null,
   "metadata": {},
   "outputs": [],
   "source": []
  }
 ],
 "metadata": {
  "kernelspec": {
   "display_name": "Python 3",
   "language": "python",
   "name": "python3"
  },
  "language_info": {
   "codemirror_mode": {
    "name": "ipython",
    "version": 3
   },
   "file_extension": ".py",
   "mimetype": "text/x-python",
   "name": "python",
   "nbconvert_exporter": "python",
   "pygments_lexer": "ipython3",
   "version": "3.6.5"
  }
 },
 "nbformat": 4,
 "nbformat_minor": 2
}
